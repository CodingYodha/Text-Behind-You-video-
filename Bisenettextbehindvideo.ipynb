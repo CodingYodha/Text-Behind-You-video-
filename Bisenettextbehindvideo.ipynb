{
  "nbformat": 4,
  "nbformat_minor": 0,
  "metadata": {
    "colab": {
      "provenance": [],
      "gpuType": "T4"
    },
    "kernelspec": {
      "name": "python3",
      "display_name": "Python 3"
    },
    "language_info": {
      "name": "python"
    },
    "accelerator": "GPU"
  },
  "cells": [
    {
      "cell_type": "code",
      "source": [
        "import torch\n",
        "import torchvision.transforms as transforms\n",
        "from PIL import Image, ImageDraw, ImageFont, ImageFilter\n",
        "import cv2\n",
        "import numpy as np\n",
        "\n",
        "# -----------------------------\n",
        "# Model Setup (DeepLabV3)\n",
        "# -----------------------------\n",
        "device = 'cuda' if torch.cuda.is_available() else 'cpu'\n",
        "model = torch.hub.load('pytorch/vision:v0.10.0', 'deeplabv3_resnet50', pretrained=True).to(device).eval()\n",
        "\n",
        "# Person class ID = 15 in COCO dataset\n",
        "PERSON_CLASS = 15\n",
        "\n",
        "# -----------------------------\n",
        "# Video Settings\n",
        "# -----------------------------\n",
        "input_video_path = \"/content/drive/MyDrive/video/some people walking.mp4\"\n",
        "output_video_path = \"/content/drive/MyDrive/video/some_ppl_opt.mp4\"\n",
        "\n",
        "cap = cv2.VideoCapture(input_video_path)\n",
        "frame_width = int(cap.get(cv2.CAP_PROP_FRAME_WIDTH))\n",
        "frame_height = int(cap.get(cv2.CAP_PROP_FRAME_HEIGHT))\n",
        "fps = int(cap.get(cv2.CAP_PROP_FPS))\n",
        "fourcc = cv2.VideoWriter_fourcc(*'mp4v')\n",
        "out = cv2.VideoWriter(output_video_path, fourcc, fps, (frame_width, frame_height))\n",
        "\n",
        "# -----------------------------\n",
        "# Transform for model input\n",
        "# -----------------------------\n",
        "transform = transforms.Compose([\n",
        "    transforms.ToTensor(),\n",
        "    transforms.Normalize(mean=[0.485, 0.456, 0.406], std=[0.229, 0.224, 0.225]),\n",
        "])\n",
        "\n",
        "# -----------------------------\n",
        "# Font Setup\n",
        "# -----------------------------\n",
        "try:\n",
        "    font_size = 180\n",
        "    font_path = \"/content/drive/MyDrive/fonts/Aesthetic Moment  Italic Personal Used.ttf\"\n",
        "    font = ImageFont.truetype(font_path, font_size)\n",
        "except:\n",
        "    print(\"Custom font not found, using default\")\n",
        "    font = ImageFont.load_default()\n",
        "\n",
        "# -----------------------------\n",
        "# Frame Processing Loop\n",
        "# -----------------------------\n",
        "while cap.isOpened():\n",
        "    ret, frame = cap.read()\n",
        "    if not ret:\n",
        "        break\n",
        "\n",
        "    # Convert to PIL image\n",
        "    pil_image = Image.fromarray(cv2.cvtColor(frame, cv2.COLOR_BGR2RGB))\n",
        "\n",
        "    # Transform and run inference\n",
        "    input_tensor = transform(pil_image).unsqueeze(0).to(device)\n",
        "    with torch.no_grad():\n",
        "        output = model(input_tensor)['out'][0]\n",
        "    mask = output.argmax(0).byte().cpu()\n",
        "\n",
        "    # Create binary mask for person\n",
        "    binary_mask = (mask == PERSON_CLASS).numpy().astype('uint8') * 255\n",
        "    binary_mask_image = Image.fromarray(binary_mask)\n",
        "\n",
        "    # Blur background\n",
        "    blurred_image = pil_image.filter(ImageFilter.GaussianBlur(2))\n",
        "\n",
        "    # Draw text on blurred background\n",
        "    draw = ImageDraw.Draw(blurred_image)\n",
        "    watermark_text = '''Bold Moves'''\n",
        "\n",
        "    text_bbox = draw.textbbox((0, 0), watermark_text, font=font)\n",
        "    text_width = text_bbox[2] - text_bbox[0]\n",
        "    text_height = text_bbox[3] - text_bbox[1]\n",
        "\n",
        "    offset = 100\n",
        "    position = (\n",
        "        (blurred_image.width - text_width) // 2,\n",
        "        (blurred_image.height - text_height) // 2 - offset\n",
        "    )\n",
        "\n",
        "    draw.text(position, watermark_text, fill=(0, 0, 0, 128), font=font)\n",
        "\n",
        "    # Composite final frame\n",
        "    final_image = Image.composite(pil_image, blurred_image, binary_mask_image)\n",
        "\n",
        "    # Convert back to OpenCV format\n",
        "    final_frame = cv2.cvtColor(np.array(final_image), cv2.COLOR_RGB2BGR)\n",
        "    out.write(final_frame)\n",
        "\n",
        "# Cleanup\n",
        "cap.release()\n",
        "out.release()\n",
        "print(\"✅ Video saved to:\", output_video_path)"
      ],
      "metadata": {
        "colab": {
          "base_uri": "https://localhost:8080/"
        },
        "id": "TojbjRA4lWLa",
        "outputId": "6dc242e2-dae2-4ddf-ff9e-ba4c4f2845e5"
      },
      "execution_count": null,
      "outputs": [
        {
          "output_type": "stream",
          "name": "stderr",
          "text": [
            "Using cache found in /root/.cache/torch/hub/pytorch_vision_v0.10.0\n"
          ]
        },
        {
          "output_type": "stream",
          "name": "stdout",
          "text": [
            "✅ Video saved to: /content/drive/MyDrive/video/some_ppl_opt.mp4\n"
          ]
        }
      ]
    },
    {
      "cell_type": "code",
      "source": [],
      "metadata": {
        "id": "GN8AV2kUezKs"
      },
      "execution_count": null,
      "outputs": []
    }
  ]
}